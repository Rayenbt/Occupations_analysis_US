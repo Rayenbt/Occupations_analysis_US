{
 "cells": [
  {
   "cell_type": "code",
   "execution_count": null,
   "id": "7f73abb1-c118-4d5b-b0bf-bc25e0111722",
   "metadata": {},
   "outputs": [],
   "source": []
  }
 ],
 "metadata": {
  "kernelspec": {
   "display_name": "",
   "name": ""
  },
  "language_info": {
   "name": ""
  }
 },
 "nbformat": 4,
 "nbformat_minor": 5
}
